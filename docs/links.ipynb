{
 "cells": [
  {
   "cell_type": "markdown",
   "metadata": {},
   "source": [
    "# External links\n",
    "## Development environment\n",
    "- [Jupyter Lab](http://jupyterlab.readthedocs.io/en/stable/index.html)\n",
    "\n",
    "## Code style\n",
    "- [PEP 8](https://www.python.org/dev/peps/pep-0008/) - Style guide\n",
    "- [Google Style guide](https://google.github.io/styleguide/pyguide.html)\n",
    "\n",
    "## Modularity\n",
    "- [Modules](https://docs.python.org/3/tutorial/modules.html) - Official Python tutorial\n",
    "- [Structuring Your Project](http://docs.python-guide.org/en/latest/writing/structure/) - Hitchhiker's guide to Python\n",
    "- [PEP 423](https://www.python.org/dev/peps/pep-0423/) - Naming conventions and recipes related to packaging\n",
    "\n",
    "### Class vs Module\n",
    "- [Global state in Python module](https://stackoverflow.com/questions/17346428/global-state-in-python-module) - SO\n",
    "- [Maintain state without classes](https://stackoverflow.com/questions/11866419/how-to-maintain-state-in-python-without-classes) - SO\n",
    "- [Module as singleton](https://stackoverflow.com/questions/6255050/python-thinking-of-a-module-and-its-variables-as-a-singleton-clean-approach) - SO\n",
    "- [Globals and singletons](https://stackoverflow.com/questions/12066180/globals-and-singletons-in-python)\n",
    "\n",
    "## Version control\n",
    "- [nbdime](https://github.com/jupyter/nbdime) - notebook diff and merge with git integration\n",
    "- [Version control of notebooks](https://stackoverflow.com/questions/18734739/using-ipython-notebooks-under-version-control) - SO discussion with several options\n",
    "\n",
    "## Presentation\n",
    "- [RISE](https://github.com/damianavila/RISE) - notebook -> interactive slides"
   ]
  }
 ],
 "metadata": {
  "kernelspec": {
   "display_name": "Python 3",
   "language": "python",
   "name": "python3"
  },
  "language_info": {
   "codemirror_mode": {
    "name": "ipython",
    "version": 3
   },
   "file_extension": ".py",
   "mimetype": "text/x-python",
   "name": "python",
   "nbconvert_exporter": "python",
   "pygments_lexer": "ipython3",
   "version": "3.6.4"
  }
 },
 "nbformat": 4,
 "nbformat_minor": 2
}
