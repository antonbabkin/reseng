{
 "cells": [
  {
   "cell_type": "markdown",
   "metadata": {
    "slideshow": {
     "slide_type": "slide"
    }
   },
   "source": [
    "# Research engineering:<br>Scientific research workflow\n",
    "\n",
    "Anton Babkin\n",
    "\n",
    "March 23, 2018"
   ]
  },
  {
   "cell_type": "markdown",
   "metadata": {
    "heading_collapsed": true,
    "slideshow": {
     "slide_type": "slide"
    }
   },
   "source": [
    "# Objectives\n",
    "- Transparent, well documented research\n",
    "- Reproducibility \n",
    "  - run provided code and get same results\n",
    "- Collaboration\n",
    "- Reusability"
   ]
  },
  {
   "cell_type": "markdown",
   "metadata": {
    "slideshow": {
     "slide_type": "fragment"
    }
   },
   "source": [
    "# Tools\n",
    "- Python as main programming language.\n",
    "- R, Julia and other community-supported kernels.\n",
    "- Jupyter Notebook: documentation, presentation, interactive work.\n",
    "- Git: collaboration, backup and record keeping.\n",
    "- Google cloud storage: data warehousing and archiving."
   ]
  },
  {
   "cell_type": "markdown",
   "metadata": {
    "slideshow": {
     "slide_type": "slide"
    }
   },
   "source": [
    "# Project and code structure\n",
    "## Managing complexity\n",
    "\n",
    "> Dijkstra pointed out that no one's skull is really big enough to contain a modern computer program (Dijkstra 1972), which means that we as software developers shouldn't try to cram whole programs into our skulls at once; we should try to organize our programs in such a way that we can safely focus on one part of it at a time.\n",
    "> The goal is to minimize the amount of a program you have to think about at any one time. You might think of this as mental juggling - the more mental balls the program requires you to keep in the air at once, the more likely you'll drop one of the balls, leading to a design or coding error.\n",
    "\n",
    "Steve McConnell, Code Complete, 2ed"
   ]
  },
  {
   "cell_type": "markdown",
   "metadata": {
    "slideshow": {
     "slide_type": "subslide"
    }
   },
   "source": [
    "## Levels of design\n",
    "Steve McConnell, Code Complete, 2ed\n",
    "\n",
    "1. Software system.\n",
    "2. Division into subsystems or packages.  \n",
    "Typically needed on any project that takes longer than a few weeks.\n",
    "3. Division into classes.  \n",
    "Project takes longer than a few days.\n",
    "4. Division into routines.  \n",
    "Project takes more than a few hours.\n",
    "5. Internal routine design."
   ]
  },
  {
   "cell_type": "markdown",
   "metadata": {
    "slideshow": {
     "slide_type": "subslide"
    }
   },
   "source": [
    "## File structure\n",
    "\n",
    "- `main.ipynb`: Project entry point. Overview. Links to parts. Main results.\n",
    "- `lib/`: Code and notebooks. Serves as Python package for the project.\n",
    "- `data/`: Permanent data storage.\n",
    "- `tmp/`: Temporary data and other auxiliary files.\n",
    "\n",
    "## Version control\n",
    "- The entire project is on Git VC.\n",
    "- `data/` and `tmp/` are ignored.\n",
    "- `data/` is manually synced with central data repository. Snapshots are created at time of major \"release\" for reproducibility."
   ]
  },
  {
   "cell_type": "markdown",
   "metadata": {
    "slideshow": {
     "slide_type": "slide"
    }
   },
   "source": [
    "## Git\n",
    "\n",
    "- Central *private* repository on GitLab/GitHub.\n",
    "- Consists of permanent \"master\" and \"master-public\" branches, and temporary branches for features and collaboration.\n",
    "- Completed features are merged back into \"master\".\n",
    "- Every time a project reaches certain milestone on \"master\", it gets tagged.\n",
    "- \"master-public\" contains limited set of files and only reflects history between milestone releases. \n",
    "  - this branch is synced with a *public* repository.\n",
    "  - how to do it? :)\n",
    "- In local repo, don't work on \"master\", create \"wip\" branches for features.\n",
    "- Only push to central repo branches that need to be shared with others."
   ]
  },
  {
   "cell_type": "markdown",
   "metadata": {
    "slideshow": {
     "slide_type": "slide"
    }
   },
   "source": [
    "# Modularity and encapsulation in Python\n",
    "\n",
    "While working on one small piece, forget how everything outside of it works. After the piece is finished, forget about it's internals. It's easier to think 11 times about 10 lines of code at a time (10 functions 10 lines each), than to think one time about 100 lines of code."
   ]
  },
  {
   "cell_type": "markdown",
   "metadata": {
    "slideshow": {
     "slide_type": "fragment"
    }
   },
   "source": [
    "- Functions\n",
    "- Classes and objects\n",
    "- Modules and packages"
   ]
  },
  {
   "cell_type": "markdown",
   "metadata": {
    "slideshow": {
     "slide_type": "subslide"
    }
   },
   "source": [
    "## Functions\n",
    "- local scope\n",
    "- use temporary variables\n",
    "- can use bad variable names like `a`, `b`, `tmp`, `x1` and `x2`, yay! :)\n",
    "- don't forget `global foo` if you want to modify `foo` from outer scope\n",
    "  - although it's easier to think about functions that have no side effects\n",
    "- it's okay to make functions with one line of code in them\n",
    "- it's okay to make functions that are only called once\n",
    "- generators"
   ]
  },
  {
   "cell_type": "markdown",
   "metadata": {
    "slideshow": {
     "slide_type": "subslide"
    }
   },
   "source": [
    "## Classes and objects\n",
    "- bundle related functions together\n",
    "- bundle state + methods\n",
    "- cookie cutter\n",
    "- interface vs internals\n",
    "- `_underscore` members: pseudo-private\n",
    "- `__double_underscore__` functions: `__init__`, `__str__`, `__add__`, ..."
   ]
  },
  {
   "cell_type": "markdown",
   "metadata": {
    "slideshow": {
     "slide_type": "subslide"
    }
   },
   "source": [
    "## Modules and packages\n",
    "\n",
    "- Bundle closely related code, separate loosely related or unrelated code.\n",
    "- \"module\" is any Python script file, and it can be imported.\n",
    "- Module may contain executable code and definitions.\n",
    "- \"package\" is a folder with `__init__.py` in it.\n",
    "- Package may contain modules and subpackages.\n",
    "- `__init__.py` is usually either empty or imports from submodules and subpackages.\n",
    "- Module vs Class?"
   ]
  },
  {
   "cell_type": "markdown",
   "metadata": {
    "slideshow": {
     "slide_type": "subslide"
    }
   },
   "source": [
    "### `import`\n",
    "\n",
    "- When you run `from pack.subpack.mod import func`\n",
    "  - `pack/__init__.py` gets executed\n",
    "  - `pack/subpack/__init__.py` gets executed\n",
    "  - `pack/subpack/mod.py` gets executed\n",
    "  - `func` defined in `mod.py` remains in current namespace\n",
    "  - !!! all variables defined along the way remain in memory, they can be accessed and modified by `func`\n",
    "- If you then `import pack`, *nothing* is executed\n",
    "  - even if `pack/__init__.py` has changed\n",
    "  - because it has already been executed before\n",
    "  - restart kernel, `importlib.reload` or [`%autoreload`](http://ipython.readthedocs.io/en/stable/config/extensions/autoreload.html)"
   ]
  },
  {
   "cell_type": "markdown",
   "metadata": {
    "slideshow": {
     "slide_type": "subslide"
    }
   },
   "source": [
    "### `from ... import ...` vs `import ...`\n",
    "\n",
    "> Note that when using `from package import item`, the item can be either a submodule (or subpackage) of the package, or some other name defined in the package, like a function, class or variable. The import statement first tests whether the item is defined in the package; if not, it assumes it is a module and attempts to load it. If it fails to find it, an ImportError exception is raised.\n",
    "\n",
    "> Contrarily, when using syntax like `import item.subitem.subsubitem`, each item except for the last must be a package; the last item can be a module or a package but can’t be a class or function or variable defined in the previous item.\n",
    "\n",
    "[Modules and packages](https://docs.python.org/3/tutorial/modules.html) - official Python tutorial."
   ]
  },
  {
   "cell_type": "markdown",
   "metadata": {
    "slideshow": {
     "slide_type": "slide"
    }
   },
   "source": [
    "# Example 1: This project\n",
    "- `lib/`\n",
    "  - [`__init__.py`](lib/__init__.py) - top level declarations of `lib` package\n",
    "  - [`chap1.ipynb`](lib/chap1.ipynb) - keep all code in the notebook\n",
    "  - [`chap2.ipynb`](lib/chap2.ipynb) - import single module, interface vs implementation\n",
    "  - [`chap2.py`](lib/chap2.py) - module for `chap2.ipynb`\n",
    "  - [`chap3.ipynb`](lib/chap3.ipynb) - bundle multiple modules in subpackage\n",
    "  - `chap3/` - subpackage for `chap3.ipynb`\n",
    "    - [`__init__.py`](lib/chap3/__init__.py) - declarations of `chap3` subpackage\n",
    "    - [`sec1.py`](lib/chap3/sec1.py)\n",
    "    - [`sec2.py`](lib/chap3/sec2.py)\n",
    "  - [`chap4.ipynb`](lib/chap4.ipynb) - reference other chapters\n",
    "  - [`chap4.py`](lib/chap4.py)"
   ]
  },
  {
   "cell_type": "markdown",
   "metadata": {
    "slideshow": {
     "slide_type": "subslide"
    }
   },
   "source": [
    "## Show main results in the top level notebook\n",
    "\n",
    "Importing executes the script and brings everything defined in it to `chap2` namespace."
   ]
  },
  {
   "cell_type": "code",
   "execution_count": null,
   "metadata": {},
   "outputs": [],
   "source": [
    "%cd .."
   ]
  },
  {
   "cell_type": "code",
   "execution_count": null,
   "metadata": {},
   "outputs": [],
   "source": [
    "from lib import chap2\n",
    "%matplotlib inline"
   ]
  },
  {
   "cell_type": "markdown",
   "metadata": {
    "slideshow": {
     "slide_type": "subslide"
    }
   },
   "source": [
    "Defined functions are available."
   ]
  },
  {
   "cell_type": "code",
   "execution_count": null,
   "metadata": {},
   "outputs": [],
   "source": [
    "chap2.print_answer()"
   ]
  },
  {
   "cell_type": "code",
   "execution_count": null,
   "metadata": {},
   "outputs": [],
   "source": [
    "chap2.summarize()"
   ]
  },
  {
   "cell_type": "markdown",
   "metadata": {
    "slideshow": {
     "slide_type": "subslide"
    }
   },
   "source": [
    "All module global variables are available too."
   ]
  },
  {
   "cell_type": "code",
   "execution_count": null,
   "metadata": {},
   "outputs": [],
   "source": [
    "chap2.df.plot()"
   ]
  },
  {
   "cell_type": "markdown",
   "metadata": {
    "slideshow": {
     "slide_type": "slide"
    }
   },
   "source": [
    "# Example 2: UMetrics\n",
    "\n",
    "1. How to organize code, documentation, data, writeups and slides in a project of non trivial size?\n",
    "2. Two parallel lines of work in notebooks. How to merge them?\n"
   ]
  },
  {
   "cell_type": "markdown",
   "metadata": {
    "slideshow": {
     "slide_type": "slide"
    }
   },
   "source": [
    "# Misc\n",
    "\n",
    "- Use config files and put them in .gitignore.\n",
    "- There are tools to connect code from different notebooks.\n",
    "  - `%run lib/chap1.ipynb`\n",
    "    - executes `chap1.ipynb` in isolated environment\n",
    "    - then brings all variables to current namespace\n",
    "  - [`ipynb`](https://github.com/ipython/ipynb)\n",
    "    - `from ipynb.fs.full import chap1`: execute all code\n",
    "    - `from ipynb.fs.defs import chap2`: only execute definitions\n",
    "    - fails if notebooks use ipython magics, see [this issue](https://github.com/ipython/ipynb/issues/6)\n",
    "- This needs further understanding, but class defined and imported from top-level module is shared between lower level modules. It means that using it as namespace is not safe."
   ]
  }
 ],
 "metadata": {
  "celltoolbar": "Slideshow",
  "kernelspec": {
   "display_name": "Python 3",
   "language": "python",
   "name": "python3"
  },
  "language_info": {
   "codemirror_mode": {
    "name": "ipython",
    "version": 3
   },
   "file_extension": ".py",
   "mimetype": "text/x-python",
   "name": "python",
   "nbconvert_exporter": "python",
   "pygments_lexer": "ipython3",
   "version": "3.6.4"
  },
  "toc": {
   "nav_menu": {},
   "number_sections": false,
   "sideBar": true,
   "skip_h1_title": false,
   "title_cell": "Table of Contents",
   "title_sidebar": "Contents",
   "toc_cell": false,
   "toc_position": {
    "height": "1083px",
    "left": "1924px",
    "top": "137px",
    "width": "362px"
   },
   "toc_section_display": true,
   "toc_window_display": false
  }
 },
 "nbformat": 4,
 "nbformat_minor": 2
}
