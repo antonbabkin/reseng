{
 "cells": [
  {
   "cell_type": "markdown",
   "metadata": {},
   "source": [
    "# Chapter 1. Keep it simple, stupid\n",
    "\n",
    "If notebook is small and isolated from others, it might be best to just keep all code in it."
   ]
  },
  {
   "cell_type": "code",
   "execution_count": 1,
   "metadata": {},
   "outputs": [],
   "source": [
    "one = 'keep'\n",
    "two = 'it'\n",
    "three = 'simple,'\n",
    "four = 'stupid'\n",
    "\n",
    "def make_list(*args):\n",
    "    return list(args)\n",
    "\n",
    "def make_sentence(words):\n",
    "    return ' '.join(words)\n",
    "\n",
    "def print_sentence(sentence):\n",
    "    print(sentence)\n",
    "    \n",
    "def print_acronym(sentence):\n",
    "    acronym = [word[0].upper() for word in sentence.split(' ')]\n",
    "    print(*acronym, sep='')"
   ]
  },
  {
   "cell_type": "code",
   "execution_count": 2,
   "metadata": {},
   "outputs": [
    {
     "name": "stdout",
     "output_type": "stream",
     "text": [
      "keep it simple, stupid\n",
      "KISS\n"
     ]
    }
   ],
   "source": [
    "all_four = make_list(one, two, three, four)\n",
    "principle = make_sentence(all_four)\n",
    "print_sentence(principle)\n",
    "print_acronym(principle)"
   ]
  }
 ],
 "metadata": {
  "kernelspec": {
   "display_name": "Python 3",
   "language": "python",
   "name": "python3"
  },
  "language_info": {
   "codemirror_mode": {
    "name": "ipython",
    "version": 3
   },
   "file_extension": ".py",
   "mimetype": "text/x-python",
   "name": "python",
   "nbconvert_exporter": "python",
   "pygments_lexer": "ipython3",
   "version": "3.6.4"
  }
 },
 "nbformat": 4,
 "nbformat_minor": 2
}
