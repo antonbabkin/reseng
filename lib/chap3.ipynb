{
 "cells": [
  {
   "cell_type": "markdown",
   "metadata": {},
   "source": [
    "# Chapter 3. Subpackage\n",
    "\n",
    "If code for chapter becomes too big for a single module, it can be organized in a subpackage.\n",
    "\n",
    "In this example, code in Section 1 is responsibe data preparation, and code in Section 2 is responsible for data presentation."
   ]
  },
  {
   "cell_type": "code",
   "execution_count": 1,
   "metadata": {},
   "outputs": [
    {
     "name": "stdout",
     "output_type": "stream",
     "text": [
      "/Users/babkin/reseng\n"
     ]
    }
   ],
   "source": [
    "%cd .."
   ]
  },
  {
   "cell_type": "code",
   "execution_count": 2,
   "metadata": {},
   "outputs": [
    {
     "name": "stdout",
     "output_type": "stream",
     "text": [
      "Hello, lib!\n",
      "Hello, chap3!\n",
      "Hello, chap3, sec1.\n",
      "Hello, chap3, sec2.\n"
     ]
    }
   ],
   "source": [
    "from lib import chap3"
   ]
  },
  {
   "cell_type": "markdown",
   "metadata": {},
   "source": [
    "## Visible connection between modules\n",
    "\n",
    "Modules expose data and methods, which are passed to other modules."
   ]
  },
  {
   "cell_type": "code",
   "execution_count": 3,
   "metadata": {},
   "outputs": [
    {
     "data": {
      "text/plain": [
       "{'author': 'John F. Nash',\n",
       " 'journal': 'PNAS',\n",
       " 'title': 'Equilibrium points in n-person games',\n",
       " 'year': '1950'}"
      ]
     },
     "execution_count": 3,
     "metadata": {},
     "output_type": "execute_result"
    }
   ],
   "source": [
    "pub = chap3.sec1.pub\n",
    "pub"
   ]
  },
  {
   "cell_type": "code",
   "execution_count": 4,
   "metadata": {},
   "outputs": [
    {
     "name": "stdout",
     "output_type": "stream",
     "text": [
      "                 key | value\n",
      "-------------------- | --------\n",
      "              author | John F. Nash\n",
      "               title | Equilibrium points in n-person games\n",
      "             journal | PNAS\n",
      "                year | 1950\n"
     ]
    }
   ],
   "source": [
    "chap3.sec2.print_dict_as_table(pub)"
   ]
  },
  {
   "cell_type": "markdown",
   "metadata": {},
   "source": [
    "## Hidden connection between modules\n",
    "\n",
    "Modules directly access each other's data and methods."
   ]
  },
  {
   "cell_type": "code",
   "execution_count": 5,
   "metadata": {},
   "outputs": [
    {
     "name": "stdout",
     "output_type": "stream",
     "text": [
      "                 key | value\n",
      "-------------------- | --------\n",
      "              author | John F. Nash\n",
      "               title | Equilibrium points in n-person games\n",
      "             journal | PNAS\n",
      "                year | 1950\n"
     ]
    }
   ],
   "source": [
    "chap3.sec2.print_pub()"
   ]
  },
  {
   "cell_type": "markdown",
   "metadata": {},
   "source": [
    "## Interaction of multiple subpackages"
   ]
  },
  {
   "cell_type": "code",
   "execution_count": 3,
   "metadata": {},
   "outputs": [
    {
     "name": "stdout",
     "output_type": "stream",
     "text": [
      "Hello, chap2!\n"
     ]
    }
   ],
   "source": [
    "from lib import chap2"
   ]
  },
  {
   "cell_type": "code",
   "execution_count": 15,
   "metadata": {},
   "outputs": [
    {
     "data": {
      "text/plain": [
       "{'25%': 0.339103556846,\n",
       " '50%': 0.5152175481879608,\n",
       " '75%': 0.7789268581861555,\n",
       " 'count': 100.0,\n",
       " 'max': 0.987439768112934,\n",
       " 'mean': 0.5387745592329864,\n",
       " 'min': 0.016531888608689704,\n",
       " 'std': 0.27351798578033865}"
      ]
     },
     "execution_count": 15,
     "metadata": {},
     "output_type": "execute_result"
    }
   ],
   "source": [
    "s = chap2.df.describe()\n",
    "d = {k: s.loc[k, 0] for k in s.index}\n",
    "d"
   ]
  },
  {
   "cell_type": "code",
   "execution_count": 16,
   "metadata": {},
   "outputs": [
    {
     "name": "stdout",
     "output_type": "stream",
     "text": [
      "                 key | value\n",
      "-------------------- | --------\n",
      "               count | 100.0\n",
      "                mean | 0.5387745592329864\n",
      "                 std | 0.27351798578033865\n",
      "                 min | 0.016531888608689704\n",
      "                 25% | 0.339103556846\n",
      "                 50% | 0.5152175481879608\n",
      "                 75% | 0.7789268581861555\n",
      "                 max | 0.987439768112934\n"
     ]
    }
   ],
   "source": [
    "chap3.sec2.print_dict_as_table(d)"
   ]
  }
 ],
 "metadata": {
  "kernelspec": {
   "display_name": "Python 3",
   "language": "python",
   "name": "python3"
  },
  "language_info": {
   "codemirror_mode": {
    "name": "ipython",
    "version": 3
   },
   "file_extension": ".py",
   "mimetype": "text/x-python",
   "name": "python",
   "nbconvert_exporter": "python",
   "pygments_lexer": "ipython3",
   "version": "3.6.4"
  }
 },
 "nbformat": 4,
 "nbformat_minor": 2
}
