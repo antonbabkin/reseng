{
 "cells": [
  {
   "cell_type": "markdown",
   "metadata": {},
   "source": [
    "# Chapter 4. Module gotchas"
   ]
  },
  {
   "cell_type": "markdown",
   "metadata": {},
   "source": [
    "# Import subtleties\n"
   ]
  },
  {
   "cell_type": "markdown",
   "metadata": {},
   "source": [
    "## Module needs to be explicitly imported somewhere\n",
    "Simply having the `sec1.py` file in subpackage directory is not enough."
   ]
  },
  {
   "cell_type": "code",
   "execution_count": 1,
   "metadata": {},
   "outputs": [
    {
     "name": "stdout",
     "output_type": "stream",
     "text": [
      "/Users/babkin/reseng\n"
     ]
    }
   ],
   "source": [
    "%cd .."
   ]
  },
  {
   "cell_type": "code",
   "execution_count": 2,
   "metadata": {},
   "outputs": [
    {
     "name": "stdout",
     "output_type": "stream",
     "text": [
      "Hello, lib!\n",
      "Hello, chap4!\n"
     ]
    },
    {
     "ename": "AttributeError",
     "evalue": "module 'lib.chap4' has no attribute 'sec1'",
     "output_type": "error",
     "traceback": [
      "\u001b[0;31m---------------------------------------------------------------------------\u001b[0m",
      "\u001b[0;31mAttributeError\u001b[0m                            Traceback (most recent call last)",
      "\u001b[0;32m<ipython-input-2-eac97316df01>\u001b[0m in \u001b[0;36m<module>\u001b[0;34m()\u001b[0m\n\u001b[1;32m      1\u001b[0m \u001b[0;32mfrom\u001b[0m \u001b[0mlib\u001b[0m \u001b[0;32mimport\u001b[0m \u001b[0mchap4\u001b[0m\u001b[0;34m\u001b[0m\u001b[0m\n\u001b[0;32m----> 2\u001b[0;31m \u001b[0mchap4\u001b[0m\u001b[0;34m.\u001b[0m\u001b[0msec1\u001b[0m\u001b[0;34m\u001b[0m\u001b[0m\n\u001b[0m",
      "\u001b[0;31mAttributeError\u001b[0m: module 'lib.chap4' has no attribute 'sec1'"
     ]
    }
   ],
   "source": [
    "from lib import chap4\n",
    "chap4.sec1"
   ]
  },
  {
   "cell_type": "markdown",
   "metadata": {},
   "source": [
    "How to access `sec1` module?\n",
    "- add `from . import sec1` to `chap4/__init__.py`\n",
    "- `from lib.chap4 import sec1`\n",
    "- `import lib.chap4.sec1`\n",
    "\n",
    "Notice that `from lib import chap3.sec3` is not allowed."
   ]
  },
  {
   "cell_type": "code",
   "execution_count": 3,
   "metadata": {},
   "outputs": [
    {
     "name": "stdout",
     "output_type": "stream",
     "text": [
      "Hello, chap4, sec1.\n",
      "Hello, chap4, sec2.\n"
     ]
    },
    {
     "data": {
      "text/plain": [
       "<module 'lib.chap4.sec1' from '/Users/babkin/reseng/lib/chap4/sec1.py'>"
      ]
     },
     "execution_count": 3,
     "metadata": {},
     "output_type": "execute_result"
    }
   ],
   "source": [
    "from lib.chap4 import sec1\n",
    "sec1"
   ]
  },
  {
   "cell_type": "markdown",
   "metadata": {},
   "source": [
    "Now that `sec1` is loaded, we can also refer to it as `chap4.sec1`:"
   ]
  },
  {
   "cell_type": "code",
   "execution_count": 4,
   "metadata": {},
   "outputs": [
    {
     "data": {
      "text/plain": [
       "<module 'lib.chap4.sec1' from '/Users/babkin/reseng/lib/chap4/sec1.py'>"
      ]
     },
     "execution_count": 4,
     "metadata": {},
     "output_type": "execute_result"
    }
   ],
   "source": [
    "chap4.sec1"
   ]
  },
  {
   "cell_type": "markdown",
   "metadata": {},
   "source": [
    "## Have you noticed \"sec2\"?\n",
    "\n",
    "Even though `sec2` is not imported in `chap4/__init__.py`, and neither did we explicitly import it in this notebook, it is still available.\n",
    "\n",
    "This is because it is loaded in `sec1.py`:  \n",
    "`from . import sec2`"
   ]
  },
  {
   "cell_type": "code",
   "execution_count": 5,
   "metadata": {},
   "outputs": [
    {
     "data": {
      "text/plain": [
       "<module 'lib.chap4.sec2' from '/Users/babkin/reseng/lib/chap4/sec2.py'>"
      ]
     },
     "execution_count": 5,
     "metadata": {},
     "output_type": "execute_result"
    }
   ],
   "source": [
    "chap4.sec2"
   ]
  },
  {
   "cell_type": "code",
   "execution_count": 6,
   "metadata": {},
   "outputs": [
    {
     "data": {
      "text/plain": [
       "<module 'lib.chap4.sec2' from '/Users/babkin/reseng/lib/chap4/sec2.py'>"
      ]
     },
     "execution_count": 6,
     "metadata": {},
     "output_type": "execute_result"
    }
   ],
   "source": [
    "sec1.sec2"
   ]
  },
  {
   "cell_type": "code",
   "execution_count": 7,
   "metadata": {},
   "outputs": [
    {
     "data": {
      "text/plain": [
       "<module 'lib.chap4.sec2' from '/Users/babkin/reseng/lib/chap4/sec2.py'>"
      ]
     },
     "execution_count": 7,
     "metadata": {},
     "output_type": "execute_result"
    }
   ],
   "source": [
    "chap4.sec1.sec2"
   ]
  },
  {
   "cell_type": "markdown",
   "metadata": {},
   "source": [
    "## Loading happens only once per module\n",
    "If we now execute additional import statements for `sec2`, it will be available under new names, but all these names would refer to the same entity.\n",
    "\n",
    "Module also would not be reloaded (does not say \"hello\").\n",
    "\n",
    "If you need to reload module without restarting kernel:\n",
    "- `importlib.reload()`\n",
    "- `%autoreload`"
   ]
  },
  {
   "cell_type": "code",
   "execution_count": 8,
   "metadata": {},
   "outputs": [
    {
     "data": {
      "text/plain": [
       "<module 'lib.chap4.sec2' from '/Users/babkin/reseng/lib/chap4/sec2.py'>"
      ]
     },
     "execution_count": 8,
     "metadata": {},
     "output_type": "execute_result"
    }
   ],
   "source": [
    "import lib.chap4.sec2\n",
    "lib.chap4.sec2"
   ]
  },
  {
   "cell_type": "code",
   "execution_count": 9,
   "metadata": {},
   "outputs": [
    {
     "data": {
      "text/plain": [
       "<module 'lib.chap4.sec2' from '/Users/babkin/reseng/lib/chap4/sec2.py'>"
      ]
     },
     "execution_count": 9,
     "metadata": {},
     "output_type": "execute_result"
    }
   ],
   "source": [
    "from lib.chap4 import sec2\n",
    "sec2"
   ]
  },
  {
   "cell_type": "code",
   "execution_count": 10,
   "metadata": {},
   "outputs": [
    {
     "data": {
      "text/plain": [
       "<module 'lib.chap4.sec2' from '/Users/babkin/reseng/lib/chap4/sec2.py'>"
      ]
     },
     "execution_count": 10,
     "metadata": {},
     "output_type": "execute_result"
    }
   ],
   "source": [
    "import lib.chap4.sec2 as s2\n",
    "s2"
   ]
  },
  {
   "cell_type": "markdown",
   "metadata": {},
   "source": [
    "# Shared state\n",
    "\n",
    "All variables defined in modules can be mutated or reassigned. Not just variables, but even function and Class definitions, since they all are just fields in module's `__dict__`.\n",
    "\n",
    "This flexilibity can be useful, but can also be dangerous.\n",
    "\n",
    "**With great power comes great responsibility.**\n",
    "\n",
    "*Restart kernel*"
   ]
  },
  {
   "cell_type": "code",
   "execution_count": 1,
   "metadata": {},
   "outputs": [
    {
     "name": "stdout",
     "output_type": "stream",
     "text": [
      "/Users/babkin/reseng\n"
     ]
    }
   ],
   "source": [
    "%cd .."
   ]
  },
  {
   "cell_type": "code",
   "execution_count": 2,
   "metadata": {},
   "outputs": [
    {
     "name": "stdout",
     "output_type": "stream",
     "text": [
      "Hello, lib!\n",
      "Hello, chap4!\n",
      "Hello, chap4, sec1.\n",
      "Hello, chap4, sec2.\n"
     ]
    }
   ],
   "source": [
    "from lib.chap4 import sec1\n",
    "from lib.chap4 import sec2"
   ]
  },
  {
   "cell_type": "code",
   "execution_count": 3,
   "metadata": {},
   "outputs": [
    {
     "name": "stdout",
     "output_type": "stream",
     "text": [
      "My name is Section 2\n"
     ]
    }
   ],
   "source": [
    "sec2.main()"
   ]
  },
  {
   "cell_type": "code",
   "execution_count": 4,
   "metadata": {},
   "outputs": [
    {
     "name": "stdout",
     "output_type": "stream",
     "text": [
      "My name is Section 2, better than ever!\n"
     ]
    }
   ],
   "source": [
    "sec2.my_name = 'Section 2, better than ever!'\n",
    "sec2.main()"
   ]
  },
  {
   "cell_type": "code",
   "execution_count": 5,
   "metadata": {},
   "outputs": [
    {
     "name": "stdout",
     "output_type": "stream",
     "text": [
      "My name is Здесь был Вася Ж)\n"
     ]
    }
   ],
   "source": [
    "# possibly unexpected side-effect\n",
    "sec1.mutate_sec2('Здесь был Вася Ж)')\n",
    "sec2.main()"
   ]
  },
  {
   "cell_type": "code",
   "execution_count": 6,
   "metadata": {},
   "outputs": [
    {
     "name": "stdout",
     "output_type": "stream",
     "text": [
      "Told you!\n"
     ]
    }
   ],
   "source": [
    "# functions are not special\n",
    "sec2.main = lambda: print('Told you!')\n",
    "sec2.main()"
   ]
  },
  {
   "cell_type": "markdown",
   "metadata": {},
   "source": [
    "## Suggestions\n",
    "- Document your code.\n",
    "  - use decriptive names\n",
    "  - docstrings\n",
    "  - \\# comments\n",
    "  - notebook markdown\n",
    "- Use pseudo-private variables, `_underscored`.\n",
    "  - don't show up as module, class or object members on tab completion\n",
    "  - serve as additional documentation: \"don't touch me\"\n",
    "  - are still not private and can be modified\n",
    "- Use alternatives to your taste and situation.\n",
    "  - classes\n",
    "  - objects\n",
    "  \n",
    "Related Stack Overflow discussions:\n",
    "- [Global state in Python module](https://stackoverflow.com/questions/17346428/global-state-in-python-module)\n",
    "- [Maintain state without classes](https://stackoverflow.com/questions/11866419/how-to-maintain-state-in-python-without-classes)\n",
    "- [Module as singleton](https://stackoverflow.com/questions/6255050/python-thinking-of-a-module-and-its-variables-as-a-singleton-clean-approach)\n",
    "- [Globals and singletons](https://stackoverflow.com/questions/12066180/globals-and-singletons-in-python)"
   ]
  },
  {
   "cell_type": "markdown",
   "metadata": {},
   "source": [
    "### Class properties are shared\n",
    "\n",
    "If you *want* to share state between parts of you program, you can also use class and class properties."
   ]
  },
  {
   "cell_type": "code",
   "execution_count": 7,
   "metadata": {},
   "outputs": [
    {
     "name": "stdout",
     "output_type": "stream",
     "text": [
      "10\n",
      "[1, 2, 3]\n",
      "5\n",
      "[1, 2, 1]\n"
     ]
    }
   ],
   "source": [
    "class Box():\n",
    "    weight = 10\n",
    "    dimensions = [1, 2, 3]\n",
    "# ...\n",
    "print(Box.weight) # 10\n",
    "print(Box.dimensions) # [1, 2, 3]\n",
    "# ...\n",
    "Box.weight = 5\n",
    "Box.dimensions[2] = 1\n",
    "# ...\n",
    "print(Box.weight) # 5\n",
    "print(Box.dimensions) # [1, 2, 1]"
   ]
  },
  {
   "cell_type": "markdown",
   "metadata": {},
   "source": [
    "### Object properties are not shared\n",
    "If you want to use entity in multiple places and maintain different internal state."
   ]
  },
  {
   "cell_type": "code",
   "execution_count": 8,
   "metadata": {},
   "outputs": [
    {
     "name": "stdout",
     "output_type": "stream",
     "text": [
      "1\n",
      "2\n"
     ]
    }
   ],
   "source": [
    "class Bag():\n",
    "    def __init__(self, size):\n",
    "        self.size = size\n",
    "small_bag = Bag(1)\n",
    "large_bag = Bag(2)\n",
    "\n",
    "print(small_bag.size) # 1\n",
    "print(large_bag.size) # 2"
   ]
  }
 ],
 "metadata": {
  "kernelspec": {
   "display_name": "Python 3",
   "language": "python",
   "name": "python3"
  },
  "language_info": {
   "codemirror_mode": {
    "name": "ipython",
    "version": 3
   },
   "file_extension": ".py",
   "mimetype": "text/x-python",
   "name": "python",
   "nbconvert_exporter": "python",
   "pygments_lexer": "ipython3",
   "version": "3.6.4"
  }
 },
 "nbformat": 4,
 "nbformat_minor": 2
}
