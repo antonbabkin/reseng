{
 "cells": [
  {
   "cell_type": "markdown",
   "metadata": {},
   "source": [
    "# Research engineering: Scientific research workflow\n",
    "\n",
    "This project proposes a structure for scientific research project. It also discusses best practices for writing code in Python."
   ]
  },
  {
   "cell_type": "markdown",
   "metadata": {},
   "source": [
    "# Objectives\n",
    "- Transparent, well documented research\n",
    "- Reproducibility, i.e. ability to run provided code and get same results\n",
    "- Collaboration\n",
    "- Reusability"
   ]
  },
  {
   "cell_type": "markdown",
   "metadata": {},
   "source": [
    "# Tools\n",
    "- Python as main programming language.\n",
    "- R, Julia and other community-supported kernels.\n",
    "- Jupyter Notebook: documentation, presentation, interactive work.\n",
    "- Git: collaboration, backup and record keeping.\n",
    "- Google cloud storage: data warehousing and archiving."
   ]
  },
  {
   "cell_type": "markdown",
   "metadata": {},
   "source": [
    "# File structure\n",
    "\n",
    "- `main.ipynb` Project entry point. Overview. Links to parts. Main results.\n",
    "- `lib/` Code and notebooks. Serves as Python package for the project.\n",
    "- `data/` Permanent data storage.\n",
    "- `tmp/` Temporary data and other auxiliary files.\n",
    "- `docs/` Documentation, writeups, slides.\n",
    "  - [`slides.ipynb`](docs/slides.ipynb) Interactive presentation.\n",
    "  - [`links.ipynb`](docs/links.ipynb) External reference."
   ]
  },
  {
   "cell_type": "markdown",
   "metadata": {},
   "source": [
    "# Version control\n",
    "- The entire project is on Git VC.\n",
    "- `data/` and `tmp/` are ignored.\n",
    "- `data/` is manually synced with central data repository. Snapshots are created at time of major \"release\" for reproducibility."
   ]
  },
  {
   "cell_type": "markdown",
   "metadata": {},
   "source": [
    "# Modularity and encapsulation in Python\n",
    "\n",
    "While working on one small piece, forget how everything outside of it works. After the piece is finished, forget about it's internals. It's easier to think 11 times about 10 lines of code at a time (10 functions 10 lines each), than to think one time about 100 lines of code.\n",
    "\n",
    "- Functions\n",
    "- Classes and objects\n",
    "- Modules and packages"
   ]
  }
 ],
 "metadata": {
  "kernelspec": {
   "display_name": "Python 3",
   "language": "python",
   "name": "python3"
  },
  "language_info": {
   "codemirror_mode": {
    "name": "ipython",
    "version": 3
   },
   "file_extension": ".py",
   "mimetype": "text/x-python",
   "name": "python",
   "nbconvert_exporter": "python",
   "pygments_lexer": "ipython3",
   "version": "3.6.4"
  }
 },
 "nbformat": 4,
 "nbformat_minor": 2
}
