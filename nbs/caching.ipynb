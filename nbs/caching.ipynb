{
 "cells": [
  {
   "cell_type": "markdown",
   "id": "coated-semiconductor",
   "metadata": {},
   "source": [
    "# Caching"
   ]
  },
  {
   "cell_type": "code",
   "execution_count": 7,
   "id": "academic-rendering",
   "metadata": {
    "execution": {
     "iopub.execute_input": "2021-05-06T17:05:30.648686Z",
     "iopub.status.busy": "2021-05-06T17:05:30.648070Z",
     "iopub.status.idle": "2021-05-06T17:05:30.663289Z",
     "shell.execute_reply": "2021-05-06T17:05:30.662483Z",
     "shell.execute_reply.started": "2021-05-06T17:05:30.648616Z"
    }
   },
   "outputs": [
    {
     "name": "stdout",
     "output_type": "stream",
     "text": [
      "Module \"reseng.config\" read config from \"/home/babkin/rurec/submodules/reseng/settings.ini\".\n"
     ]
    }
   ],
   "source": [
    "#default_exp caching\n",
    "#export\n",
    "import pathlib\n",
    "import pickle\n",
    "\n",
    "from reseng.config import Paths"
   ]
  },
  {
   "cell_type": "code",
   "execution_count": 9,
   "id": "rising-pilot",
   "metadata": {
    "execution": {
     "iopub.execute_input": "2021-05-06T17:06:11.691796Z",
     "iopub.status.busy": "2021-05-06T17:06:11.691109Z",
     "iopub.status.idle": "2021-05-06T17:06:11.702459Z",
     "shell.execute_reply": "2021-05-06T17:06:11.701575Z",
     "shell.execute_reply.started": "2021-05-06T17:06:11.691726Z"
    },
    "extensions": {
     "jupyter_dashboards": {
      "activeView": "grid_default",
      "views": {
       "grid_default": {
        "col": null,
        "height": 2,
        "hidden": true,
        "row": null,
        "width": 2
       }
      }
     }
    }
   },
   "outputs": [],
   "source": [
    "#export\n",
    "def simplecache(path):\n",
    "    def wrapper(func):\n",
    "        def wrapped(*args, **kwargs):\n",
    "            p = pathlib.Path(path)\n",
    "            if p.exists():\n",
    "                print(f'Reading {func.__name__}() cached result from \"{path}\".')\n",
    "                return pickle.load(p.open('rb'))\n",
    "            else:\n",
    "                res = func(*args, **kwargs)\n",
    "                print(f'Writing {func.__name__}() result to cache at \"{path}\".')\n",
    "                pickle.dump(res, p.open('wb'), protocol=5)\n",
    "                return res\n",
    "        return wrapped\n",
    "    return wrapper"
   ]
  },
  {
   "cell_type": "code",
   "execution_count": 11,
   "id": "worthy-bathroom",
   "metadata": {
    "execution": {
     "iopub.execute_input": "2021-05-06T17:06:59.530251Z",
     "iopub.status.busy": "2021-05-06T17:06:59.529689Z",
     "iopub.status.idle": "2021-05-06T17:06:59.542315Z",
     "shell.execute_reply": "2021-05-06T17:06:59.541431Z",
     "shell.execute_reply.started": "2021-05-06T17:06:59.530193Z"
    },
    "extensions": {
     "jupyter_dashboards": {
      "activeView": "grid_default",
      "views": {
       "grid_default": {
        "col": null,
        "height": 2,
        "hidden": true,
        "row": null,
        "width": 2
       }
      }
     }
    }
   },
   "outputs": [
    {
     "name": "stdout",
     "output_type": "stream",
     "text": [
      "calculate\n",
      "--> calculating\n",
      "Writing test_simplecache() result to cache at \"/home/babkin/rurec/submodules/reseng/tmp/test.pkl\".\n",
      "load cache\n",
      "Reading test_simplecache() cached result from \"/home/babkin/rurec/submodules/reseng/tmp/test.pkl\".\n",
      "calculate\n",
      "--> calculating\n",
      "Writing test_simplecache() result to cache at \"/home/babkin/rurec/submodules/reseng/tmp/test.pkl\".\n"
     ]
    }
   ],
   "source": [
    "try:\n",
    "    p = Paths.locate_root_path()/'tmp/test.pkl'\n",
    "    @simplecache(p)\n",
    "    def test_simplecache():\n",
    "        print('--> calculating')\n",
    "        return 1\n",
    "    \n",
    "    print('calculate')\n",
    "    assert test_simplecache() == 1\n",
    "    print('load cache')\n",
    "    assert test_simplecache() == 1\n",
    "    p.unlink()\n",
    "    print('calculate')\n",
    "    assert test_simplecache() == 1\n",
    "finally:\n",
    "    p.unlink()"
   ]
  }
 ],
 "metadata": {
  "kernelspec": {
   "display_name": "Python 3",
   "language": "python",
   "name": "python3"
  },
  "language_info": {
   "codemirror_mode": {
    "name": "ipython",
    "version": 3
   },
   "file_extension": ".py",
   "mimetype": "text/x-python",
   "name": "python",
   "nbconvert_exporter": "python",
   "pygments_lexer": "ipython3",
   "version": "3.8.6"
  }
 },
 "nbformat": 4,
 "nbformat_minor": 5
}
