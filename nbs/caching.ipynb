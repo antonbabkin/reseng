{
 "cells": [
  {
   "cell_type": "markdown",
   "id": "coated-semiconductor",
   "metadata": {},
   "source": [
    "# Caching"
   ]
  },
  {
   "cell_type": "code",
   "execution_count": null,
   "id": "academic-rendering",
   "metadata": {},
   "outputs": [],
   "source": [
    "#default_exp caching\n",
    "#export\n",
    "import pathlib\n",
    "import pickle\n",
    "import functools\n",
    "from typing import Union"
   ]
  },
  {
   "cell_type": "code",
   "execution_count": null,
   "id": "rising-pilot",
   "metadata": {},
   "outputs": [],
   "source": [
    "#export\n",
    "def simplecache(path: Union[str, pathlib.Path]):\n",
    "    \"\"\"Pickle function's returned value. Function returns pickled value if it exists.\n",
    "    \n",
    "    If `path` is str, may use \"{}\" placeholders to be filled from function arguments.\n",
    "    Placeholders must be consistent with function call arguments ({} for args, {...} for kwargs).\n",
    "    \"\"\"\n",
    "    def wrapper(func):\n",
    "        @functools.wraps(func)\n",
    "        def wrapped(*args, **kwargs):\n",
    "            p = path\n",
    "            if isinstance(p, str):\n",
    "                p = pathlib.Path(p.format(*args, **kwargs))\n",
    "            if p.exists():\n",
    "                print(f'Reading {func.__name__}() cached result from \"{p}\".')\n",
    "                return pickle.load(p.open('rb'))\n",
    "            else:\n",
    "                res = func(*args, **kwargs)\n",
    "                print(f'Writing {func.__name__}() result to cache at \"{p}\".')\n",
    "                pickle.dump(res, p.open('wb'), protocol=5)\n",
    "                return res\n",
    "        return wrapped\n",
    "    return wrapper"
   ]
  },
  {
   "cell_type": "code",
   "execution_count": null,
   "id": "worthy-bathroom",
   "metadata": {},
   "outputs": [],
   "source": [
    "import tempfile\n",
    "import uuid\n",
    "import shutil\n",
    "\n",
    "try:\n",
    "    p = pathlib.Path(tempfile.gettempdir())/uuid.uuid4().hex\n",
    "    @simplecache(p)\n",
    "    def test():\n",
    "        print('--> calculating')\n",
    "        return 1\n",
    "\n",
    "    print('calculate')\n",
    "    assert test() == 1\n",
    "    print('load cache')\n",
    "    assert test() == 1\n",
    "    p.unlink()\n",
    "    print('calculate')\n",
    "    assert test() == 1\n",
    "    \n",
    "    p0 = pathlib.Path(tempfile.gettempdir())/uuid.uuid4().hex\n",
    "    p0.mkdir()\n",
    "    p1 = p0/'1'\n",
    "    p2 = p0/'2'\n",
    "    @simplecache(str(p0)+'/{x}')\n",
    "    def test(x):\n",
    "        print('--> calc', x)\n",
    "        return x\n",
    "    \n",
    "    print('calculate')\n",
    "    assert test(x=1) == 1\n",
    "    print('calculate')\n",
    "    assert test(x=2) == 2\n",
    "    print('load cache')\n",
    "    assert test(x=1) == 1\n",
    "    \n",
    "finally:\n",
    "    p.unlink()\n",
    "    shutil.rmtree(p0)"
   ]
  }
 ],
 "metadata": {
  "language_info": {
   "name": "python"
  }
 },
 "nbformat": 4,
 "nbformat_minor": 5
}
