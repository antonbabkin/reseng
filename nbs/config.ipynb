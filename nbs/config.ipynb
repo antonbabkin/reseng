{
 "cells": [
  {
   "cell_type": "markdown",
   "id": "alone-pasta",
   "metadata": {},
   "source": [
    "# Configuration\n",
    "\n",
    "> Working with config file."
   ]
  },
  {
   "cell_type": "code",
   "execution_count": null,
   "id": "opened-thickness",
   "metadata": {},
   "outputs": [],
   "source": [
    "#default_exp config"
   ]
  },
  {
   "cell_type": "code",
   "execution_count": null,
   "id": "flying-sheep",
   "metadata": {},
   "outputs": [],
   "source": [
    "#export\n",
    "from pathlib import Path\n",
    "import configparser\n",
    "\n",
    "def get_config(cfgpath=None):\n",
    "    if cfgpath is not None:\n",
    "        cfgpath = Path(cfgpath)\n",
    "        assert cfgpath.exists(), f'Config not found at \"{cfgpath}\"'\n",
    "        cfg = configparser.ConfigParser()\n",
    "        cfg.read(cfgpath)\n",
    "        print(f'Read config from \"{cfgpath}\"')\n",
    "        return cfg\n",
    "    \n",
    "    cfgname = 'settings.ini'\n",
    "    try:\n",
    "        d = Path(__file).parent\n",
    "        proj = d.name\n",
    "    except NameError:\n",
    "        d = Path().absolute()\n",
    "        proj = None\n",
    "    while not (d/cfgname).exists() and (d != d.parent):\n",
    "        d = d.parent\n",
    "    return get_config(d/cfgname)"
   ]
  },
  {
   "cell_type": "code",
   "execution_count": null,
   "id": "banned-translation",
   "metadata": {},
   "outputs": [],
   "source": [
    "c = get_config()\n",
    "assert c.get('DEFAULT', 'lib_name') == 'reseng'"
   ]
  }
 ],
 "metadata": {
  "kernelspec": {
   "display_name": "Python 3",
   "language": "python",
   "name": "python3"
  }
 },
 "nbformat": 4,
 "nbformat_minor": 5
}
