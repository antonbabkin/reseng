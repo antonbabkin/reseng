{
 "cells": [
  {
   "cell_type": "markdown",
   "id": "moved-liberal",
   "metadata": {},
   "source": [
    "# Configuration and paths"
   ]
  },
  {
   "cell_type": "code",
   "execution_count": null,
   "id": "mysterious-theater",
   "metadata": {},
   "outputs": [],
   "source": [
    "#default_exp config"
   ]
  },
  {
   "cell_type": "code",
   "execution_count": null,
   "id": "american-yacht",
   "metadata": {},
   "outputs": [],
   "source": [
    "#export\n",
    "import sys\n",
    "import pathlib\n",
    "import inspect\n",
    "import configparser"
   ]
  },
  {
   "cell_type": "code",
   "execution_count": null,
   "id": "favorite-rocket",
   "metadata": {},
   "outputs": [],
   "source": [
    "#export\n",
    "class Paths:\n",
    "    \"\"\"Namespace for `pathlib.Path` objects.\n",
    "    Save paths at initialization or add them later with `Paths.add()`.\n",
    "    \"\"\"\n",
    "    def __init__(self, **kwargs):\n",
    "        \"\"\"Use name=path kwargs to add paths in addition to defaults.\"\"\"\n",
    "        self.root = self.locate_root_path()\n",
    "        self._path_names = ['root']\n",
    "        for name, path in kwargs.items():\n",
    "            self.add(name, path)\n",
    "            self._path_names.append(name)\n",
    "            \n",
    "    def __str__(self):\n",
    "        name_col_width = max(map(len, self._path_names))\n",
    "        return '\\n'.join(f'{n:>{name_col_width}}: {getattr(self, n)}' for n in self._path_names)\n",
    "\n",
    "    @staticmethod\n",
    "    def locate_root_path():\n",
    "        \"\"\"Return project root path identified by presence of \".git\" directory.\"\"\"\n",
    "        if hasattr(sys, 'ps1'): # interactive mode\n",
    "            p0 = '.'\n",
    "        else:\n",
    "            # call stack: 0=this function, 1=__init__(), 2=caller\n",
    "            caller = inspect.stack()[2]\n",
    "            p0 = caller.filename\n",
    "        p = p0 = pathlib.Path(p0).resolve()\n",
    "        while p != p.parent:\n",
    "            if (p/'.git').exists():\n",
    "                return p\n",
    "            p = p.parent\n",
    "        raise Exception(f'Could not find project root above \"{p0}\".')\n",
    "        \n",
    "    def make(self, path):\n",
    "        \"\"\"Return resolved path. If relative path is given, resolve from project root.\"\"\"\n",
    "        path = pathlib.Path(path)\n",
    "        if not path.is_absolute():\n",
    "            path = self.root/path\n",
    "        return path.resolve()\n",
    "    \n",
    "    def add(self, name, path):\n",
    "        \"\"\"Save given `path` as object attribute with given `name`.\"\"\"\n",
    "        setattr(self, name, self.make(path))"
   ]
  },
  {
   "cell_type": "code",
   "execution_count": null,
   "id": "binary-durham",
   "metadata": {},
   "outputs": [],
   "source": [
    "p = Paths(rel='relative/path', abs='/absolute/path')\n",
    "print(p)"
   ]
  },
  {
   "cell_type": "code",
   "execution_count": null,
   "id": "plain-kentucky",
   "metadata": {},
   "outputs": [],
   "source": [
    "#export\n",
    "class Config:\n",
    "    \"\"\"Read settings from INI file in project root.\"\"\"\n",
    "    def __init__(self):\n",
    "        self.file = Paths.locate_root_path()/'settings.ini'\n",
    "        self.parser = configparser.ConfigParser()\n",
    "        self.parser.read(self.file)\n",
    "        print(f'Module \"{__name__}\" read config from \"{self.file}\".')\n",
    "        \n",
    "    def get(self, key, section='DEFAULT'):\n",
    "        return self.parser.get(section, key)\n",
    "    def getbool(self, key, section='DEFAULT'):\n",
    "        return self.parser.getboolean(section, key)\n",
    "    def getint(self, key, section='DEFAULT'):\n",
    "        return self.parser.getint(section, key)\n",
    "    def getfloat(self, key, section='DEFAULT'):\n",
    "        return self.parser.getfloat(section, key)\n",
    "\n",
    "# module singleton, use to read config file only once on the first import\n",
    "config = Config()"
   ]
  },
  {
   "cell_type": "code",
   "execution_count": null,
   "id": "emotional-statistics",
   "metadata": {},
   "outputs": [],
   "source": [
    "c = Config()\n",
    "assert c.get('lib_name') == 'reseng'\n",
    "assert not c.getbool('custom_sidebar')\n",
    "assert c.getint('status') == 2\n",
    "assert c.getfloat('min_python') == 3.8"
   ]
  }
 ],
 "metadata": {
  "kernelspec": {
   "display_name": "Python 3",
   "language": "python",
   "name": "python3"
  }
 },
 "nbformat": 4,
 "nbformat_minor": 5
}
