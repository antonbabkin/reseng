{
 "cells": [
  {
   "cell_type": "markdown",
   "id": "6d897304-ea07-43a6-bbed-d91afbf67420",
   "metadata": {},
   "source": [
    "# Logging"
   ]
  },
  {
   "cell_type": "code",
   "execution_count": 1,
   "id": "4e548438-6ccf-4218-9938-66949ab587c7",
   "metadata": {
    "execution": {
     "iopub.execute_input": "2021-10-12T19:10:47.764446Z",
     "iopub.status.busy": "2021-10-12T19:10:47.763718Z",
     "iopub.status.idle": "2021-10-12T19:10:47.773832Z",
     "shell.execute_reply": "2021-10-12T19:10:47.772364Z",
     "shell.execute_reply.started": "2021-10-12T19:10:47.764268Z"
    }
   },
   "outputs": [],
   "source": [
    "#default_export logging"
   ]
  },
  {
   "cell_type": "code",
   "execution_count": 8,
   "id": "91fae8d2-f19e-4599-b5cc-e851fa46a686",
   "metadata": {
    "execution": {
     "iopub.execute_input": "2021-10-12T19:12:22.337230Z",
     "iopub.status.busy": "2021-10-12T19:12:22.336604Z",
     "iopub.status.idle": "2021-10-12T19:12:22.344179Z",
     "shell.execute_reply": "2021-10-12T19:12:22.343050Z",
     "shell.execute_reply.started": "2021-10-12T19:12:22.337167Z"
    },
    "tags": []
   },
   "outputs": [],
   "source": [
    "#export\n",
    "import logging"
   ]
  },
  {
   "cell_type": "markdown",
   "id": "18663651-e3df-4a50-b23d-a84d3bae0a5c",
   "metadata": {},
   "source": [
    "Log to standard output stream."
   ]
  },
  {
   "cell_type": "code",
   "execution_count": 11,
   "id": "0e069095-f14c-4f20-a2e7-7bb474f32d58",
   "metadata": {
    "execution": {
     "iopub.execute_input": "2021-10-12T19:14:48.768545Z",
     "iopub.status.busy": "2021-10-12T19:14:48.768016Z",
     "iopub.status.idle": "2021-10-12T19:14:48.778680Z",
     "shell.execute_reply": "2021-10-12T19:14:48.777305Z",
     "shell.execute_reply.started": "2021-10-12T19:14:48.768493Z"
    },
    "tags": []
   },
   "outputs": [
    {
     "name": "stdout",
     "output_type": "stream",
     "text": [
      "2021-10-12 14:14:48,772 INFO:hello\n"
     ]
    }
   ],
   "source": [
    "import sys\n",
    "logging.basicConfig(stream=sys.stdout, level=logging.INFO, format='%(asctime)s %(levelname)s:%(message)s', force=True)\n",
    "logging.info('hello')"
   ]
  },
  {
   "cell_type": "markdown",
   "id": "9443f97d-7b6a-4a2a-8883-6005a2275f16",
   "metadata": {},
   "source": [
    "Log to a file."
   ]
  },
  {
   "cell_type": "code",
   "execution_count": 24,
   "id": "d62caec8-c391-426e-8868-563816b5f93e",
   "metadata": {
    "execution": {
     "iopub.execute_input": "2021-10-12T19:20:03.805371Z",
     "iopub.status.busy": "2021-10-12T19:20:03.804867Z",
     "iopub.status.idle": "2021-10-12T19:20:03.818632Z",
     "shell.execute_reply": "2021-10-12T19:20:03.817736Z",
     "shell.execute_reply.started": "2021-10-12T19:20:03.805325Z"
    },
    "tags": []
   },
   "outputs": [
    {
     "name": "stdout",
     "output_type": "stream",
     "text": [
      "/tmp/tmpyih5b00f\n",
      "2021-10-12 14:20:03,813 INFO:hello\n",
      "\n"
     ]
    }
   ],
   "source": [
    "import tempfile\n",
    "tf = tempfile.NamedTemporaryFile(delete=False)\n",
    "tf.close()\n",
    "\n",
    "logging.basicConfig(filename=tf.name, filemode='w', level=logging.INFO, format='%(asctime)s %(levelname)s:%(message)s', force=True)\n",
    "logging.info('hello')\n",
    "\n",
    "print(tf.name)\n",
    "with open(tf.name) as f:\n",
    "    print(f.read())"
   ]
  }
 ],
 "metadata": {
  "kernelspec": {
   "display_name": "Python 3 (ipykernel)",
   "language": "python",
   "name": "python3"
  },
  "language_info": {
   "codemirror_mode": {
    "name": "ipython",
    "version": 3
   },
   "file_extension": ".py",
   "mimetype": "text/x-python",
   "name": "python",
   "nbconvert_exporter": "python",
   "pygments_lexer": "ipython3",
   "version": "3.9.7"
  }
 },
 "nbformat": 4,
 "nbformat_minor": 5
}
