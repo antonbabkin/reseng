{
 "cells": [
  {
   "cell_type": "markdown",
   "id": "changed-employment",
   "metadata": {},
   "source": [
    "# Multiple kernels in Jupyter notebooks\n",
    "\n",
    "This notebook shows how to use different kernels (Python, R and Stata) in Jupyter. Keep in mind that with this approach communication between kernels is not possible, and data can be only shared by writing it to disk in a format understood by all kernels."
   ]
  },
  {
   "cell_type": "markdown",
   "id": "educated-sharing",
   "metadata": {},
   "source": [
    "## Setup\n",
    "\n",
    "1. Install Stata.\n",
    "\n",
    "On Windows, follow instructions to [link Stata Automation library](https://kylebarron.dev/stata_kernel/getting_started/).\n",
    "\n",
    "2. Create new conda environment.\n",
    "\n",
    "```bash\n",
    "conda create -n multikernel\n",
    "conda activate multikernel\n",
    "conda config --env --set channel_priority strict\n",
    "conda config --env --prepend channels conda-forge\n",
    "conda install python=3.9 mamba\n",
    "```\n",
    "\n",
    "3. Install Jupyter Lab (will come with IPython kernel), [R Essentials](https://docs.anaconda.com/anaconda/user-guide/tasks/using-r-language/) (IRkernel, base R and some popular libraries) and [Stata kernel](https://kylebarron.dev/stata_kernel/). Add additional Python or R packages for your needs.\n",
    "\n",
    "```bash\n",
    "mamba install jupyterlab r-essentials stata_kernel pandas\n",
    "```\n",
    "\n",
    "4. Configure Stata kernel.\n",
    "\n",
    "```bash\n",
    "python -m stata_kernel.install\n",
    "```\n",
    "\n",
    "Aftewards you may need to change config file `~/.stata_kernel.conf` to point to the right version of Stata. For example, on Linux config is set to use `stata-mp`, but you may not have license for that version.\n",
    "\n",
    "5. Install JupyterLab extension to add Stata syntax highlighting.\n",
    "\n",
    "```bash\n",
    "mamba install nodejs\n",
    "jupyter labextension install jupyterlab-stata-highlight\n",
    "```\n"
   ]
  },
  {
   "cell_type": "markdown",
   "id": "capable-orleans",
   "metadata": {},
   "source": [
    "## Stata\n",
    "\n",
    "Activate Stata kernel. See a wide range of usage examples [here](https://nbviewer.jupyter.org/github/kylebarron/stata_kernel/blob/master/examples/Example.ipynb)."
   ]
  },
  {
   "cell_type": "code",
   "execution_count": null,
   "id": "egyptian-fourth",
   "metadata": {},
   "outputs": [],
   "source": [
    "sysuse auto"
   ]
  },
  {
   "cell_type": "code",
   "execution_count": null,
   "id": "pressing-asset",
   "metadata": {},
   "outputs": [],
   "source": [
    "describe"
   ]
  },
  {
   "cell_type": "code",
   "execution_count": null,
   "id": "general-wings",
   "metadata": {},
   "outputs": [],
   "source": [
    "reg price mpg rep78 i.foreign"
   ]
  },
  {
   "cell_type": "code",
   "execution_count": null,
   "id": "nearby-costa",
   "metadata": {},
   "outputs": [],
   "source": [
    "outsheet using ../tmp/auto.csv, comma"
   ]
  },
  {
   "cell_type": "markdown",
   "id": "alive-defensive",
   "metadata": {},
   "source": [
    "## Python\n",
    "\n",
    "Activate Python kernel."
   ]
  },
  {
   "cell_type": "code",
   "execution_count": null,
   "id": "metropolitan-gasoline",
   "metadata": {},
   "outputs": [],
   "source": [
    "import pandas as pd"
   ]
  },
  {
   "cell_type": "code",
   "execution_count": null,
   "id": "annual-providence",
   "metadata": {},
   "outputs": [],
   "source": [
    "df = pd.read_csv('../tmp/auto.csv')\n",
    "df.sample(3)"
   ]
  },
  {
   "cell_type": "markdown",
   "id": "amazing-production",
   "metadata": {},
   "source": [
    "# R\n",
    "\n",
    "Activate R kernel."
   ]
  },
  {
   "cell_type": "code",
   "execution_count": null,
   "id": "homeless-villa",
   "metadata": {},
   "outputs": [],
   "source": [
    "library(ggplot2)\n",
    "\n",
    "ggplot(mpg, aes(displ, hwy, colour = class)) + \n",
    "  geom_point()"
   ]
  }
 ],
 "metadata": {
  "kernelspec": {
   "display_name": "R",
   "language": "R",
   "name": "ir"
  }
 },
 "nbformat": 4,
 "nbformat_minor": 5
}
