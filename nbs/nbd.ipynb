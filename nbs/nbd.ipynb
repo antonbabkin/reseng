{
 "cells": [
  {
   "cell_type": "markdown",
   "id": "045832e7-3dfb-4b04-8b35-7f5aca165636",
   "metadata": {
    "execution": {
     "iopub.execute_input": "2022-01-06T19:06:19.343866Z",
     "iopub.status.busy": "2022-01-06T19:06:19.342008Z",
     "iopub.status.idle": "2022-01-06T19:06:19.378715Z",
     "shell.execute_reply": "2022-01-06T19:06:19.375693Z",
     "shell.execute_reply.started": "2022-01-06T19:06:19.343744Z"
    },
    "tags": []
   },
   "source": [
    "# NBD: development in the notebook"
   ]
  },
  {
   "cell_type": "markdown",
   "id": "25e942c1-87b4-4974-95e4-53fb886c43fe",
   "metadata": {
    "tags": []
   },
   "source": [
    "# Directory structure\n",
    "\n",
    "**Requirements**  \n",
    "Package, subpackages and modules should be importable both from a notebook and from a module.\n",
    "\n",
    "**Option 1**  \n",
    "`cd` to project root in the notebook before doing imports. Simple `%cd ..` will work (can be `%cd ../..` for subpackage notebooks), but can not be executed repeatedly. Or a loop that goes `cd ..` until at root.\n",
    "\n",
    "**Option 2**  \n",
    "Create symlink to package dir at the same dir where the notebook is. Needs to be repeated for each subpackage.\n",
    "\n",
    "**Option 3**  \n",
    "`pip install -e .`. Requires package to be pip-installable properly."
   ]
  },
  {
   "cell_type": "markdown",
   "id": "1b9344a1-5bd0-490e-9345-10d2a6f74857",
   "metadata": {},
   "source": [
    "It would be helpful to be able to identify current notebook name, but this is not easy to do. There is a long standing open [issue](https://github.com/jupyter/notebook/issues/1000) on GH, and a default way to do this may be added in notebook v7."
   ]
  },
  {
   "cell_type": "code",
   "execution_count": null,
   "id": "41bc0885-61ab-44e1-9828-a3082500e8e8",
   "metadata": {},
   "outputs": [],
   "source": [
    "#nbd module\n",
    "import os\n",
    "import re\n",
    "from pathlib import Path\n",
    "import inspect\n",
    "\n",
    "import nbconvert\n",
    "import nbformat\n",
    "\n",
    "class Nbd:\n",
    "    def __init__(self, pkg_name, nbs_dir='nbs'):\n",
    "        self.pkg_name = pkg_name\n",
    "        self.nbs_dir = nbs_dir\n",
    "        self.root = self._locate_root_path()\n",
    "        p = self.pkg_path = self.root/pkg_name\n",
    "        assert p.exists() and p.is_dir()\n",
    "        p = self.nbs_path = self.root/nbs_dir\n",
    "        assert p.exists() and p.is_dir()\n",
    "        self._make_symlinks()\n",
    "        \n",
    "    def _locate_root_path(self):\n",
    "        # call stack: 0=this function, 1=__init__(), 2=caller\n",
    "        caller = inspect.stack()[2].filename\n",
    "        if any(x in caller for x in ['<ipython-input', '/xpython_', '/ipykernel_', '<stdin>']):\n",
    "            # class initialized from interactive shell or notebook\n",
    "            p0 = '.'\n",
    "        else:\n",
    "            # class initialized from a Python module\n",
    "            p0 = caller\n",
    "        p = p0 = Path(p0).resolve()\n",
    "        while p != p.anchor:\n",
    "            if (p/self.pkg_name).exists() and (p/self.nbs_dir).exists():\n",
    "                return p\n",
    "            p = p.parent\n",
    "        raise Exception(f'Could not find project root above \"{p0}\".')\n",
    "        \n",
    "    def _make_symlinks(self):\n",
    "        # support for nested subpackages can be added by recursing into subdirs of nbs/ and making links in them\n",
    "        cur_dir = Path.cwd()\n",
    "        os.chdir(self.nbs_path)\n",
    "        link = Path(self.pkg_name)\n",
    "        if link.exists():\n",
    "            assert link.is_symlink(), f'Symbolic link expected at \"{link.absolute()}\".'\n",
    "        else:\n",
    "            to = f'../{self.pkg_name}'\n",
    "            link.symlink_to(to, target_is_directory=True)\n",
    "            link = link.absolute().relative_to(self.root)\n",
    "            to = Path(to).resolve().relative_to(self.root)\n",
    "            print(f'Symbolic link created \"{link}\" -> \"{to}\"')\n",
    "        os.chdir(cur_dir)\n",
    "\n",
    "    def nb2mod(self, nb_rel_path):\n",
    "        \"\"\"`nb_rel_path` is relative to project's notebook directory.\"\"\"\n",
    "        nb_rel_path = Path(nb_rel_path)\n",
    "        nb_path = self.nbs_path/nb_rel_path\n",
    "        assert nb_path.exists() and nb_path.is_file(), f'Notebook not found at \"{nb_path}\".'\n",
    "        nb = nbformat.read(nb_path, nbformat.current_nbformat)\n",
    "        nb.cells = [c for c in nb.cells if (c.cell_type == 'code') and ('module' in get_cell_flags(c))]\n",
    "        exporter = nbconvert.exporters.PythonExporter(exclude_input_prompt=True)\n",
    "        script, _ = exporter.from_notebook_node(nb)\n",
    "        mod_path = self.pkg_path/nb_rel_path.with_suffix('.py')\n",
    "        \n",
    "        # remove #nbd lines, convert abs to rel imports\n",
    "        script = '\\n'.join(self._relative_import(l, mod_path.relative_to(self.root))\n",
    "                           for l in script.split('\\n')\n",
    "                           if not l.startswith('#nbd'))\n",
    "        \n",
    "        mod_path.parent.mkdir(parents=True, exist_ok=True)\n",
    "        mod_path.write_text(script)\n",
    "        \n",
    "        src = nb_path.relative_to(self.root)\n",
    "        dst = mod_path.relative_to(self.root)\n",
    "        print(f'Converted notebook \"{src}\" to module \"{dst}\".')\n",
    "        \n",
    "    def _relative_import(self, line, file_rel_path):\n",
    "        \"\"\"Replace line like \"from pkg.subpkg.mod1 import obj\" in file \"pkg/subpkg/mod2.py\"\n",
    "        with \"from .mod1 import obj\"\n",
    "        \"\"\"\n",
    "        pattern = r'^(\\s*)from \\s*(\\S+)\\s* import (.*)$'\n",
    "        m = re.match(pattern, line)\n",
    "        if not m: \n",
    "            return line\n",
    "        indent, mod, obj = m.groups()\n",
    "        if not mod.startswith(self.pkg_name):\n",
    "            return line\n",
    "        # mod is like \"pkg.subpkg.mod1\", mod_path is like \"pkg/subpkg/mod2.py\"\n",
    "        # need to replace each part of common prefix with a dot\n",
    "        mod_parts = mod.split('.')\n",
    "        path_parts = list(Path(file_rel_path).parts)\n",
    "        common_len = 0\n",
    "        while ((common_len < len(mod_parts))\n",
    "               and (common_len < len(path_parts))\n",
    "               and (mod_parts[common_len] == path_parts[common_len])):\n",
    "            common_len += 1\n",
    "        dots = '.' * (len(path_parts) - common_len)\n",
    "        rel_mod = dots + '.'.join(mod_parts[common_len:])\n",
    "        return f'{indent}from {rel_mod} import {obj}'"
   ]
  },
  {
   "cell_type": "code",
   "execution_count": null,
   "id": "951db1ad-db1d-4b5a-8a69-1ca604d8bba2",
   "metadata": {},
   "outputs": [],
   "source": [
    "nbd = Nbd('reseng')\n",
    "assert nbd._relative_import('not an import statement', 'pkg/mod.py') == 'not an import statement'\n",
    "assert nbd._relative_import('from reseng import mod1', 'reseng/mod2.py') == 'from . import mod1'\n",
    "assert nbd._relative_import('from reseng.mod1 import obj', 'reseng/mod2.py') == 'from .mod1 import obj'\n",
    "assert nbd._relative_import('from reseng.subpkg.mod1 import obj', 'reseng/subpkg/mod2.py') == 'from .mod1 import obj'\n",
    "assert nbd._relative_import('from reseng.subpkg1.mod import obj', 'reseng/subpkg2/mod.py') == 'from ..subpkg1.mod import obj'\n",
    "assert nbd._relative_import('from reseng.mod1 import obj', 'reseng/subpkg1/mod.py') == 'from ..mod1 import obj'"
   ]
  },
  {
   "cell_type": "markdown",
   "id": "963669ce-9ffd-42fa-9735-6418117fca6c",
   "metadata": {},
   "source": [
    "# Markup\n",
    "\n",
    "See this [SO answer](https://stackoverflow.com/a/20885980/1447107) about Markdown comments."
   ]
  },
  {
   "cell_type": "code",
   "execution_count": null,
   "id": "c6b0a4e3-589f-4aa3-9244-3d816be1435e",
   "metadata": {},
   "outputs": [],
   "source": [
    "#nbd module\n",
    "def get_cell_flags(cell):\n",
    "    first_line = cell.source.split('\\n', 1)[0].strip()\n",
    "    if cell.cell_type == 'code' and first_line.startswith('#nbd'):\n",
    "        return first_line.split()[1:]\n",
    "    if cell.cell_type == 'markdown' and first_line.startswith('[nbd]:'):\n",
    "        return first_line.split('\"')[1].split()\n",
    "    return []"
   ]
  },
  {
   "cell_type": "markdown",
   "id": "7948cf7c-3a69-45c9-8c70-09d24246b30c",
   "metadata": {},
   "source": [
    "# nbconvert"
   ]
  },
  {
   "cell_type": "markdown",
   "id": "92b3c19e-b8e2-4dfd-aa44-ebacd995306e",
   "metadata": {},
   "source": [
    "If we want to match anywhere in the cell we need:\n",
    "\n",
    "`patterns=['(?ms).*ABRA']`\n",
    "\n",
    "where `(?ms)` are regex flags: re.M (multi-line), re.S (dot matches all)\n"
   ]
  },
  {
   "cell_type": "code",
   "execution_count": null,
   "id": "818daa86-0c3d-4e4d-84b4-d03da5297f1b",
   "metadata": {},
   "outputs": [],
   "source": [
    "# preprocessors\n",
    "prep_select_module_cells = nbconvert.preprocessors.RegexRemovePreprocessor(patterns=['(?!#nbd module)'])\n",
    "exporter = nbconvert.exporters.PythonExporter(preprocessors=[prep_select_module_cells], exclude_input_prompt=True)\n",
    "script, _ = exporter.from_filename('nbd_test.ipynb')"
   ]
  },
  {
   "cell_type": "markdown",
   "id": "111e9775-6753-420f-b1c1-d6fdcf36a9db",
   "metadata": {},
   "source": [
    "# Build this module"
   ]
  },
  {
   "cell_type": "code",
   "execution_count": null,
   "id": "43b45273-f317-4c98-8031-94b90043a732",
   "metadata": {},
   "outputs": [],
   "source": [
    "nbd = Nbd('reseng')\n",
    "nbd.nb2mod('nbd.ipynb')"
   ]
  }
 ],
 "metadata": {
  "language_info": {
   "name": "python"
  }
 },
 "nbformat": 4,
 "nbformat_minor": 5
}
