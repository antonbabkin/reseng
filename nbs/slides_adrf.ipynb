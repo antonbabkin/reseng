{
 "cells": [
  {
   "cell_type": "markdown",
   "id": "659a7780-4387-4f6d-b110-8823ef21f2c5",
   "metadata": {},
   "source": [
    "# Rural, Ag and Food Industries, NETS in ADRF\n",
    "\n",
    "## Research principles\n",
    "- reproducible\n",
    "- literate programming\n",
    "  - code + doc + output + thought process\n",
    "  - notebooks\n",
    "- modular: composable and reusable\n",
    "- scalable\n",
    "  - compute: bigger data, longer computation\n",
    "  - collaboration: bigger team, different programming languages\n",
    "  \n",
    "## Tools\n",
    "- Jupyter notebooks\n",
    "  - language agnostic (?)\n",
    "- git\n",
    "  - value added must outweigh learning cost\n",
    "  - `nbconvert` to clear nbs\n",
    "  - `nbdime` to diff and merge\n",
    "- `nbdev` or some reduced form\n",
    "  - notebook is single source\n",
    "  - build modules and docs from nbs\n",
    "- widgets, Voilà dashboards\n",
    "\n",
    "## rurec\n",
    "- https://github.com/antonbabkin/rurec\n",
    "- prototype built from InfoGroup\n",
    "- components:\n",
    "  - prepare source data: InfoGroup, geo, NAICS, ERS rurality codes...\n",
    "  - define and compute outputs\n",
    "  - benchmark against CBP/BDS\n",
    "  - present outputs\n",
    "    - static tables and graphs\n",
    "    - live dashboards\n",
    "- ran into scaling problems, took step back to re-design, ran out of time"
   ]
  }
 ],
 "metadata": {
  "language_info": {
   "name": "python"
  }
 },
 "nbformat": 4,
 "nbformat_minor": 5
}
