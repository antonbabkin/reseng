{
 "cells": [
  {
   "cell_type": "markdown",
   "id": "1aeeba93-579c-4391-88d2-eb5ac50ba21a",
   "metadata": {},
   "source": [
    "# Native Stata in Python\n",
    "\n",
    "Beginning with version 17, Stata API can now be directly called from Python code. This notebook is an example of a start to finish analysis the combines stronger parts of Python and Stata. Specifically, I look how fraction of food and agricultural industries (FAI) employment relates to proportion of population living in rural areas.\n",
    "\n",
    "- Download and parse raw data from web (Python).\n",
    "- Compute new variables, merge two tables into single dataset (Python).\n",
    "- Run an OLS regression and predict marginal effects (Stata).\n",
    "- Display estimation results in a notebook and allow dynamic re-estimation controlled by widgets (Python).\n",
    "\n",
    "Guides and examples can be found at official **pystata** package [documentation](https://www.stata.com/python/pystata/index.html).\n",
    "\n",
    "## Installation\n",
    "\n",
    "In order to run this example notebook, you need Stata 17 installation and a Python environment with `jupyter`, `pandas`, `matplotlib` and `ipywidgets` packages."
   ]
  },
  {
   "cell_type": "markdown",
   "id": "ca762c27-0564-437d-92a7-d182e37ad2a3",
   "metadata": {},
   "source": [
    "# Configuration\n",
    "\n",
    "Add location of **pystata** to paths that Python searches for import."
   ]
  },
  {
   "cell_type": "code",
   "execution_count": null,
   "id": "1fd18666-4194-405e-a496-1f8e11e8e995",
   "metadata": {},
   "outputs": [],
   "source": [
    "import sys\n",
    "sys.path.append('/usr/local/stata17/utilities')\n",
    "import pystata\n",
    "pystata.config.init('se')"
   ]
  },
  {
   "cell_type": "markdown",
   "id": "c65c2bfe-ea60-4cee-8567-45cef3cc79d7",
   "metadata": {},
   "source": [
    "# Prepare data with Python\n",
    "\n",
    "## Download NAICS codes and pick a subset\n",
    "\n",
    "NAICS classification used in [2012 CBP](https://www.census.gov/data/datasets/2012/econ/cbp/2012-cbp.html).\n",
    "\n",
    "Pick 6-digit NAICS codes that have \"agri\", \"food\" or \"farm\" in description."
   ]
  },
  {
   "cell_type": "code",
   "execution_count": null,
   "id": "d2a37403-8326-4e19-a11d-70efbca9fe26",
   "metadata": {},
   "outputs": [],
   "source": [
    "import pandas as pd\n",
    "\n",
    "df = pd.read_csv('https://www2.census.gov/programs-surveys/cbp/technical-documentation/reference/naics-descriptions/naics2012.txt')\n",
    "df = df[~df['NAICS'].str[-1].isin(['-', '/'])]\n",
    "naics_fai = df.loc[[any(x in y.lower() for x in ('agri', 'food', 'farm')) for y in df['DESCRIPTION']], 'NAICS'].tolist()\n",
    "df.query('NAICS.isin(@naics_fai)')"
   ]
  },
  {
   "cell_type": "markdown",
   "id": "b4bc21a6-ecb0-481f-8101-a3122c0b77b1",
   "metadata": {},
   "source": [
    "## Download CBP and compute FAI employment share\n",
    "\n",
    "Using county-industry employment in 2012."
   ]
  },
  {
   "cell_type": "code",
   "execution_count": null,
   "id": "ca963c09-41e7-4d55-a77b-e74f807b9652",
   "metadata": {},
   "outputs": [],
   "source": [
    "df = pd.read_csv('https://www2.census.gov/programs-surveys/cbp/datasets/2012/cbp12co.zip', dtype=str)\n",
    "df = df[['fipstate', 'fipscty', 'naics', 'emp']]\n",
    "df['emp'] = df['emp'].astype(int)\n",
    "df['stcty'] = df['fipstate'] + df['fipscty']\n",
    "df.loc[df['naics'] == '------', 'ind'] = 'all'\n",
    "df.loc[df['naics'].isin(naics_fai), 'ind'] = 'fai'\n",
    "d = df.groupby(['stcty', 'ind'])['emp'].sum().unstack().fillna(0)\n",
    "fai_share = d['fai'] / d['all']\n",
    "fai_share.describe([0, 0.5, 0.6, 0.7, 0.8, 0.9, 0.95, 0.99, 1])"
   ]
  },
  {
   "cell_type": "markdown",
   "id": "3486e595-4496-41f5-b4bf-71c4980ab505",
   "metadata": {},
   "source": [
    "## Download and compute rural population shares\n",
    "\n",
    "County rurality is computed as fraction of population living in rural tracts. Tracts are defined as rural if their ERS [RUCA codes](https://www.ers.usda.gov/data-products/rural-urban-commuting-area-codes/documentation/) are \"6\", \"9\" or \"10\"."
   ]
  },
  {
   "cell_type": "code",
   "execution_count": null,
   "id": "7326e0d8-bf37-4a35-98a2-dd0f24f0fc7c",
   "metadata": {},
   "outputs": [],
   "source": [
    "df = pd.read_excel('https://www.ers.usda.gov/webdocs/DataFiles/53241/ruca2010revised.xlsx?v=2541.2', dtype=str, skiprows=1)\n",
    "df = df[['State-County FIPS Code', 'Primary RUCA Code 2010', 'Secondary RUCA Code, 2010 (see errata)', 'Tract Population, 2010']]\n",
    "df.columns = ['stcty', 'ruca_p', 'ruca_s', 'pop']\n",
    "df['pop'] = df['pop'].astype(int)\n",
    "df['rural'] = df['ruca_p'].isin(['6', '9', '10'])\n",
    "d = df.groupby(['stcty', 'rural'])['pop'].sum().unstack().fillna(0)\n",
    "rural_pop_share = d[True] / d.sum(1)\n",
    "rural_pop_share.describe([0, 0.5, 0.6, 0.7, 0.8, 0.9, 0.95, 0.99, 1])"
   ]
  },
  {
   "cell_type": "markdown",
   "id": "28bd83f7-4733-4170-81ef-e355505417a6",
   "metadata": {},
   "source": [
    "## Merge employment and population data"
   ]
  },
  {
   "cell_type": "code",
   "execution_count": null,
   "id": "8eaf5382-607e-4e05-9d38-574cd0d13e9b",
   "metadata": {},
   "outputs": [],
   "source": [
    "df = pd.concat([rural_pop_share, fai_share], 1)\n",
    "df.columns = ['rural_pop_share', 'fai_share']\n",
    "df = df.dropna()\n",
    "reg_df = df\n",
    "df.sample(frac=0.1).plot.scatter('rural_pop_share', 'fai_share')"
   ]
  },
  {
   "cell_type": "markdown",
   "id": "8f65d593-cb86-45fa-ac22-2c444f9d43a0",
   "metadata": {
    "tags": []
   },
   "source": [
    "# Analyze with Stata, report with Python\n",
    "\n",
    "## IPython magics\n",
    "\n",
    "IPython magic `%%stata` can be used to execute snippets of Stata code. Here we use it to load previously prepared Pandas DataFrame as an active Stata dataset with a `-d` parameter (`-force` to replace previously loaded dataset)."
   ]
  },
  {
   "cell_type": "code",
   "execution_count": null,
   "id": "2c0221f5-86e1-46c2-b0df-17a7dc594e31",
   "metadata": {},
   "outputs": [],
   "source": [
    "%%stata -force -d reg_df\n",
    "describe, short"
   ]
  },
  {
   "cell_type": "markdown",
   "id": "151d4a77-d317-40be-b6e6-c208b2269119",
   "metadata": {},
   "source": [
    "We can use the same approach to run regression and post-estimation of marginal effects, printing output logs in the notebook. Estimation results can be brought back to Python context with `-ret`, `-eret` and `-sret`."
   ]
  },
  {
   "cell_type": "code",
   "execution_count": null,
   "id": "8f363624-74cc-489d-96f5-fd81e0d50fac",
   "metadata": {},
   "outputs": [],
   "source": [
    "%%stata -ret reg_ret\n",
    "reg fai_share rural_pop_share\n",
    "margins, at(rural_pop_share=(0(0.1)1)) level(95)"
   ]
  },
  {
   "cell_type": "markdown",
   "id": "5b9369e9-85f9-4320-b7e0-7382905e9191",
   "metadata": {},
   "source": [
    "All **r()** returns from the `margins` command are now stored in a Python dict."
   ]
  },
  {
   "cell_type": "code",
   "execution_count": null,
   "id": "692bf401-f379-4d22-8b5c-9a75437d1e89",
   "metadata": {},
   "outputs": [],
   "source": [
    "reg_ret"
   ]
  },
  {
   "cell_type": "markdown",
   "id": "c8a5dd84-64c0-49af-9e92-c6c79a3858fe",
   "metadata": {},
   "source": [
    "Stata plots will also be displayed in the notebook."
   ]
  },
  {
   "cell_type": "code",
   "execution_count": null,
   "id": "b0dde18d-5855-454b-a690-fd2a019bab53",
   "metadata": {},
   "outputs": [],
   "source": [
    "%%stata\n",
    "twoway scatter fai_share rural_pop_share in 1/500"
   ]
  },
  {
   "cell_type": "markdown",
   "id": "c04a8577-5f25-4855-a998-8a7b05a5514d",
   "metadata": {
    "tags": []
   },
   "source": [
    "## Stata API\n",
    "\n",
    "We can also use `pystata.stata.run()` function to submit a string of Stata code for execution and retrieve returns with `pystata.stata.get_return()`. This allows for a more flexible customization of commands with Python string manipulation tools. Here we wrap regression and marginal effects code in a Python function that can be used to run estimation with different parameters and plot results."
   ]
  },
  {
   "cell_type": "code",
   "execution_count": null,
   "id": "c8b36c58-ed87-4f4d-9c15-70c787fb8cb8",
   "metadata": {},
   "outputs": [],
   "source": [
    "from pystata import stata\n",
    "import matplotlib.pyplot as plt\n",
    "\n",
    "def reg_margin_plot(level=95, poly=1):\n",
    "    rhs = 'rural_pop_share' + (poly-1) * ' c.rural_pop_share#c.rural_pop_share'\n",
    "    stata.run(f'''\n",
    "    reg fai_share {rhs}\n",
    "    margins, at(rural_pop_share=(0(0.1)1)) level({level})\n",
    "    ''', quietly=True)\n",
    "\n",
    "    r = stata.get_return()\n",
    "    plt.plot(r['r(at)'], r['r(b)'].T, 'b-')\n",
    "    plt.plot(r['r(at)'], r['r(table)'][4, :], 'b:')\n",
    "    plt.plot(r['r(at)'], r['r(table)'][5, :], 'b:')\n",
    "    plt.xlabel('Rural population share')\n",
    "    plt.ylabel('FAI employment share')\n",
    "    f = plt.gcf()\n",
    "    plt.close()\n",
    "    return f\n",
    "\n",
    "reg_margin_plot(90, 2)"
   ]
  },
  {
   "cell_type": "markdown",
   "id": "9bb162bc-0586-40ed-94dc-21f2ba7300a6",
   "metadata": {},
   "source": [
    "Now we can easily create an interactive interface to the regression code using widgets."
   ]
  },
  {
   "cell_type": "code",
   "execution_count": null,
   "id": "2cfc95fa-1abe-4085-85ff-79e0c0d3477c",
   "metadata": {},
   "outputs": [],
   "source": [
    "import ipywidgets as widgets\n",
    "widgets.interact(reg_margin_plot,\n",
    "                 level=widgets.IntSlider(min=80, max=99, step=1, value=95, description='CI %'),\n",
    "                 poly=widgets.RadioButtons(options=[('Linear', 1), ('Quadratic', 2), ('Cubic', 3)], value=1, description='Polynomial'))"
   ]
  }
 ],
 "metadata": {
  "language_info": {
   "name": "python"
  }
 },
 "nbformat": 4,
 "nbformat_minor": 5
}
