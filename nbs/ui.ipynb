{
 "cells": [
  {
   "cell_type": "markdown",
   "id": "59955757-5d0c-43bf-8ed0-2097d1a7fbcd",
   "metadata": {},
   "source": [
    "# User interface"
   ]
  },
  {
   "cell_type": "markdown",
   "id": "43e1cce0-c537-4bb5-b01e-9b74ddb4b41a",
   "metadata": {},
   "source": [
    "## Initialization\n",
    "\n",
    "Run this section to initialize your local repository after cloning. It is safe to run multiple times."
   ]
  },
  {
   "cell_type": "markdown",
   "id": "41918ade-0fd0-4727-8500-0a826e097a18",
   "metadata": {},
   "source": [
    "### Symbolic links"
   ]
  },
  {
   "cell_type": "code",
   "execution_count": null,
   "id": "fea3012d-b038-4963-a09c-a2c8d88fa975",
   "metadata": {},
   "outputs": [],
   "source": [
    "import os\n",
    "from pathlib import Path\n",
    "lib_dir = Path('../reseng')\n",
    "assert lib_dir.exists() and lib_dir.is_dir()\n",
    "lib_link = Path('reseng')\n",
    "lib_link.unlink(missing_ok=True)\n",
    "os.symlink(lib_dir, lib_link, target_is_directory=True)\n",
    "\n",
    "# empty list = no submodules\n",
    "for submod in []:\n",
    "    submod_dir = Path(f'../submodules/{submod}/{submod}')\n",
    "    assert submod_dir.exists() and submod_dir.is_dir()\n",
    "    submod_link = lib_dir/submod\n",
    "    submod_link.unlink(missing_ok=True)\n",
    "    os.symlink(submod_dir, submod_link, target_is_directory=True)\n",
    "    \n",
    "# test imports\n",
    "import reseng"
   ]
  },
  {
   "cell_type": "markdown",
   "id": "f44702ed-560e-4958-9164-fc0149a93a02",
   "metadata": {},
   "source": [
    "### Git configuration"
   ]
  },
  {
   "cell_type": "code",
   "execution_count": null,
   "id": "f927e42a-8311-43f7-aff5-216e87238a27",
   "metadata": {},
   "outputs": [],
   "source": [
    "from reseng.config import Paths\n",
    "root = Paths().root\n",
    "pwd = Path().resolve()\n",
    "\n",
    "%cd {root}\n",
    "!nbdime config-git --enable\n",
    "!git config filter.jupyternotebook.clean \"jupyter nbconvert --stdin --stdout --to=notebook --ClearOutputPreprocessor.enabled=True --ClearMetadataPreprocessor.enabled=True --log-level=ERROR\"\n",
    "!git config filter.jupyternotebook.smudge cat\n",
    "!git config filter.jupyternotebook.required true\n",
    "!git config diff.jupyternotebook.command \"git-nbdiffdriver diff --ignore-outputs --ignore-metadata --ignore-details\"\n",
    "%cd {pwd}"
   ]
  }
 ],
 "metadata": {
  "language_info": {
   "name": "python"
  }
 },
 "nbformat": 4,
 "nbformat_minor": 5
}
